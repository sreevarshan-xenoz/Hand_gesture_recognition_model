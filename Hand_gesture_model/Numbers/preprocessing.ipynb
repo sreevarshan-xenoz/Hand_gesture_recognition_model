{
 "cells": [
  {
   "cell_type": "code",
   "execution_count": 1,
   "metadata": {},
   "outputs": [
    {
     "name": "stdout",
     "output_type": "stream",
     "text": [
      "Training data shape: (1621, 63, 1)\n",
      "Validation data shape: (406, 63, 1)\n"
     ]
    }
   ],
   "source": [
    "import numpy as np\n",
    "import os\n",
    "from sklearn.model_selection import train_test_split\n",
    "from sklearn.preprocessing import LabelBinarizer\n",
    "\n",
    "DATA_PATH = 'Data'\n",
    "GESTURES = ['0', '1', '2', '3', '4', '5', '6', '7', '8', '9']\n",
    "NUM_LANDMARKS = 63\n",
    "\n",
    "X = []\n",
    "y = []\n",
    "\n",
    "for gesture in GESTURES:\n",
    "    gesture_path = os.path.join(DATA_PATH, gesture)\n",
    "    for file in os.listdir(gesture_path):\n",
    "        file_path = os.path.join(gesture_path, file)\n",
    "        landmarks = np.load(file_path)\n",
    "        \n",
    "        X.append(landmarks)\n",
    "        y.append(gesture)\n",
    "\n",
    "X = np.array(X)\n",
    "y = np.array(y)\n",
    "\n",
    "X = X / np.max(X)\n",
    "\n",
    "lb = LabelBinarizer()\n",
    "y = lb.fit_transform(y)\n",
    "\n",
    "X_train, X_val, y_train, y_val = train_test_split(X, y, test_size=0.2, random_state=42)\n",
    "\n",
    "X_train = X_train.reshape(X_train.shape[0], NUM_LANDMARKS, 1)\n",
    "X_val = X_val.reshape(X_val.shape[0], NUM_LANDMARKS, 1)\n",
    "\n",
    "print(f'Training data shape: {X_train.shape}')\n",
    "print(f'Validation data shape: {X_val.shape}')\n"
   ]
  },
  {
   "cell_type": "code",
   "execution_count": 2,
   "metadata": {},
   "outputs": [
    {
     "name": "stdout",
     "output_type": "stream",
     "text": [
      "Model: \"sequential\"\n",
      "_________________________________________________________________\n",
      " Layer (type)                Output Shape              Param #   \n",
      "=================================================================\n",
      " conv1d (Conv1D)             (None, 61, 64)            256       \n",
      "                                                                 \n",
      " max_pooling1d (MaxPooling1  (None, 30, 64)            0         \n",
      " D)                                                              \n",
      "                                                                 \n",
      " conv1d_1 (Conv1D)           (None, 28, 128)           24704     \n",
      "                                                                 \n",
      " max_pooling1d_1 (MaxPoolin  (None, 14, 128)           0         \n",
      " g1D)                                                            \n",
      "                                                                 \n",
      " flatten (Flatten)           (None, 1792)              0         \n",
      "                                                                 \n",
      " dense (Dense)               (None, 128)               229504    \n",
      "                                                                 \n",
      " dropout (Dropout)           (None, 128)               0         \n",
      "                                                                 \n",
      " dense_1 (Dense)             (None, 64)                8256      \n",
      "                                                                 \n",
      " dense_2 (Dense)             (None, 10)                650       \n",
      "                                                                 \n",
      "=================================================================\n",
      "Total params: 263370 (1.00 MB)\n",
      "Trainable params: 263370 (1.00 MB)\n",
      "Non-trainable params: 0 (0.00 Byte)\n",
      "_________________________________________________________________\n"
     ]
    }
   ],
   "source": [
    "import tensorflow as tf\n",
    "from tensorflow.keras.models import Sequential\n",
    "from tensorflow.keras.layers import Conv1D, MaxPooling1D, Flatten, Dense, Dropout\n",
    "\n",
    "model = Sequential([\n",
    "    Conv1D(64, kernel_size=3, activation='relu', input_shape=(NUM_LANDMARKS, 1)),\n",
    "    MaxPooling1D(pool_size=2),\n",
    "    Conv1D(128, kernel_size=3, activation='relu'),\n",
    "    MaxPooling1D(pool_size=2),\n",
    "    Flatten(),\n",
    "    Dense(128, activation='relu'),\n",
    "    Dropout(0.5),\n",
    "    Dense(64, activation='relu'),\n",
    "    Dense(10, activation='softmax')\n",
    "])\n",
    "\n",
    "model.compile(optimizer='adam', loss='categorical_crossentropy', metrics=['accuracy'])\n",
    "\n",
    "model.summary()\n"
   ]
  },
  {
   "cell_type": "code",
   "execution_count": 3,
   "metadata": {},
   "outputs": [
    {
     "name": "stdout",
     "output_type": "stream",
     "text": [
      "Epoch 1/30\n",
      "51/51 - 3s - loss: 2.2664 - accuracy: 0.1357 - val_loss: 2.1499 - val_accuracy: 0.2291 - 3s/epoch - 56ms/step\n",
      "Epoch 2/30\n",
      "51/51 - 0s - loss: 1.8739 - accuracy: 0.2517 - val_loss: 1.5054 - val_accuracy: 0.3867 - 482ms/epoch - 9ms/step\n",
      "Epoch 3/30\n",
      "51/51 - 0s - loss: 1.4743 - accuracy: 0.3751 - val_loss: 1.1578 - val_accuracy: 0.6429 - 466ms/epoch - 9ms/step\n",
      "Epoch 4/30\n",
      "51/51 - 0s - loss: 1.1598 - accuracy: 0.5238 - val_loss: 0.8443 - val_accuracy: 0.7291 - 473ms/epoch - 9ms/step\n",
      "Epoch 5/30\n",
      "51/51 - 0s - loss: 0.9678 - accuracy: 0.5935 - val_loss: 0.6124 - val_accuracy: 0.7734 - 459ms/epoch - 9ms/step\n",
      "Epoch 6/30\n",
      "51/51 - 0s - loss: 0.8219 - accuracy: 0.6317 - val_loss: 0.5090 - val_accuracy: 0.8793 - 481ms/epoch - 9ms/step\n",
      "Epoch 7/30\n",
      "51/51 - 0s - loss: 0.7082 - accuracy: 0.6909 - val_loss: 0.4789 - val_accuracy: 0.7783 - 449ms/epoch - 9ms/step\n",
      "Epoch 8/30\n",
      "51/51 - 0s - loss: 0.6257 - accuracy: 0.7353 - val_loss: 0.3335 - val_accuracy: 0.9187 - 448ms/epoch - 9ms/step\n",
      "Epoch 9/30\n",
      "51/51 - 0s - loss: 0.5087 - accuracy: 0.7933 - val_loss: 0.2530 - val_accuracy: 0.9532 - 460ms/epoch - 9ms/step\n",
      "Epoch 10/30\n",
      "51/51 - 0s - loss: 0.4673 - accuracy: 0.8174 - val_loss: 0.2360 - val_accuracy: 0.9433 - 464ms/epoch - 9ms/step\n",
      "Epoch 11/30\n",
      "51/51 - 0s - loss: 0.3903 - accuracy: 0.8519 - val_loss: 0.1588 - val_accuracy: 0.9606 - 440ms/epoch - 9ms/step\n",
      "Epoch 12/30\n",
      "51/51 - 0s - loss: 0.3391 - accuracy: 0.8624 - val_loss: 0.1473 - val_accuracy: 0.9778 - 456ms/epoch - 9ms/step\n",
      "Epoch 13/30\n",
      "51/51 - 0s - loss: 0.3391 - accuracy: 0.8717 - val_loss: 0.1403 - val_accuracy: 0.9532 - 444ms/epoch - 9ms/step\n",
      "Epoch 14/30\n",
      "51/51 - 0s - loss: 0.3309 - accuracy: 0.8766 - val_loss: 0.0901 - val_accuracy: 0.9803 - 462ms/epoch - 9ms/step\n",
      "Epoch 15/30\n",
      "51/51 - 0s - loss: 0.2439 - accuracy: 0.9105 - val_loss: 0.0753 - val_accuracy: 0.9852 - 452ms/epoch - 9ms/step\n",
      "Epoch 16/30\n",
      "51/51 - 0s - loss: 0.2626 - accuracy: 0.9099 - val_loss: 0.1168 - val_accuracy: 0.9532 - 462ms/epoch - 9ms/step\n",
      "Epoch 17/30\n",
      "51/51 - 0s - loss: 0.2690 - accuracy: 0.9007 - val_loss: 0.0672 - val_accuracy: 0.9877 - 449ms/epoch - 9ms/step\n",
      "Epoch 18/30\n",
      "51/51 - 0s - loss: 0.2059 - accuracy: 0.9303 - val_loss: 0.0367 - val_accuracy: 0.9975 - 389ms/epoch - 8ms/step\n",
      "Epoch 19/30\n",
      "51/51 - 0s - loss: 0.1991 - accuracy: 0.9284 - val_loss: 0.0346 - val_accuracy: 0.9975 - 380ms/epoch - 7ms/step\n",
      "Epoch 20/30\n",
      "51/51 - 0s - loss: 0.1880 - accuracy: 0.9352 - val_loss: 0.0574 - val_accuracy: 0.9803 - 384ms/epoch - 8ms/step\n",
      "Epoch 21/30\n",
      "51/51 - 0s - loss: 0.1471 - accuracy: 0.9469 - val_loss: 0.0196 - val_accuracy: 0.9975 - 382ms/epoch - 7ms/step\n",
      "Epoch 22/30\n",
      "51/51 - 0s - loss: 0.1559 - accuracy: 0.9482 - val_loss: 0.0856 - val_accuracy: 0.9507 - 388ms/epoch - 8ms/step\n",
      "Epoch 23/30\n",
      "51/51 - 0s - loss: 0.1321 - accuracy: 0.9562 - val_loss: 0.0210 - val_accuracy: 0.9975 - 377ms/epoch - 7ms/step\n",
      "Epoch 24/30\n",
      "51/51 - 0s - loss: 0.1119 - accuracy: 0.9630 - val_loss: 0.0170 - val_accuracy: 0.9975 - 380ms/epoch - 7ms/step\n",
      "Epoch 25/30\n",
      "51/51 - 0s - loss: 0.0954 - accuracy: 0.9655 - val_loss: 0.0196 - val_accuracy: 0.9951 - 383ms/epoch - 8ms/step\n",
      "Epoch 26/30\n",
      "51/51 - 0s - loss: 0.1204 - accuracy: 0.9562 - val_loss: 0.0158 - val_accuracy: 0.9975 - 389ms/epoch - 8ms/step\n",
      "Epoch 27/30\n",
      "51/51 - 0s - loss: 0.1097 - accuracy: 0.9618 - val_loss: 0.0158 - val_accuracy: 0.9975 - 389ms/epoch - 8ms/step\n",
      "Epoch 28/30\n",
      "51/51 - 0s - loss: 0.0854 - accuracy: 0.9735 - val_loss: 0.0154 - val_accuracy: 0.9975 - 393ms/epoch - 8ms/step\n",
      "Epoch 29/30\n",
      "51/51 - 0s - loss: 0.0922 - accuracy: 0.9679 - val_loss: 0.0137 - val_accuracy: 0.9975 - 392ms/epoch - 8ms/step\n",
      "Epoch 30/30\n",
      "51/51 - 0s - loss: 0.0801 - accuracy: 0.9753 - val_loss: 0.0138 - val_accuracy: 0.9975 - 381ms/epoch - 7ms/step\n"
     ]
    },
    {
     "name": "stderr",
     "output_type": "stream",
     "text": [
      "c:\\Users\\LENOVO\\anaconda3\\envs\\myenv\\lib\\site-packages\\keras\\src\\engine\\training.py:3000: UserWarning: You are saving your model as an HDF5 file via `model.save()`. This file format is considered legacy. We recommend using instead the native Keras format, e.g. `model.save('my_model.keras')`.\n",
      "  saving_api.save_model(\n"
     ]
    }
   ],
   "source": [
    "history = model.fit(\n",
    "    X_train, y_train,\n",
    "    validation_data=(X_val, y_val),\n",
    "    epochs=30,  \n",
    "    batch_size=32,\n",
    "    verbose=2\n",
    ")\n",
    "\n",
    "model.save('model_numbers.h5')\n"
   ]
  },
  {
   "cell_type": "code",
   "execution_count": 4,
   "metadata": {},
   "outputs": [
    {
     "name": "stdout",
     "output_type": "stream",
     "text": [
      "13/13 [==============================] - 0s 5ms/step - loss: 0.0138 - accuracy: 0.9975\n",
      "Validation accuracy: 0.9975369572639465\n"
     ]
    }
   ],
   "source": [
    "val_loss, val_acc = model.evaluate(X_val, y_val)\n",
    "print(f'Validation accuracy: {val_acc}')\n"
   ]
  }
 ],
 "metadata": {
  "kernelspec": {
   "display_name": "myenv",
   "language": "python",
   "name": "python3"
  },
  "language_info": {
   "codemirror_mode": {
    "name": "ipython",
    "version": 3
   },
   "file_extension": ".py",
   "mimetype": "text/x-python",
   "name": "python",
   "nbconvert_exporter": "python",
   "pygments_lexer": "ipython3",
   "version": "3.8.20"
  }
 },
 "nbformat": 4,
 "nbformat_minor": 2
}
