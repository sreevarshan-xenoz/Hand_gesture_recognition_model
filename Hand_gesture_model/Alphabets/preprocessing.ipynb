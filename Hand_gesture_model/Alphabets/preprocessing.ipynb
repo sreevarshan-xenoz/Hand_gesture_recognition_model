{
 "cells": [
  {
   "cell_type": "code",
   "execution_count": 17,
   "metadata": {},
   "outputs": [],
   "source": [
    "import numpy as np\n",
    "import os\n",
    "\n",
    "DATA_DIR = 'hand_gesture_data'\n",
    "alphabets = [chr(i) for i in range(ord('A'), ord('Z') + 1)]\n",
    "X = []\n",
    "y = []\n",
    "\n",
    "for alphabet_idx, alphabet in enumerate(alphabets):\n",
    "    alphabet_dir = os.path.join(DATA_DIR, alphabet)\n",
    "    for file_name in os.listdir(alphabet_dir):\n",
    "        if file_name.endswith('.npy'):\n",
    "            file_path = os.path.join(alphabet_dir, file_name)\n",
    "            try:\n",
    "                landmarks = np.load(file_path)\n",
    "                X.append(landmarks)\n",
    "                y.append(alphabet_idx)\n",
    "            except Exception as e:\n",
    "                print(f\"Error loading {file_path}: {e}\")\n",
    "\n",
    "X = np.array(X)\n",
    "y = np.array(y)\n",
    "\n",
    "X = (X - np.mean(X)) / np.std(X)\n",
    "\n",
    "from keras.utils import to_categorical\n",
    "y = to_categorical(y, num_classes=len(alphabets))\n",
    "\n",
    "from sklearn.model_selection import train_test_split\n",
    "X_train, X_val, y_train, y_val = train_test_split(X, y, test_size=0.2, random_state=42)\n"
   ]
  },
  {
   "cell_type": "code",
   "execution_count": 18,
   "metadata": {},
   "outputs": [
    {
     "name": "stdout",
     "output_type": "stream",
     "text": [
      "Epoch 1/10\n",
      "97/97 [==============================] - 2s 7ms/step - loss: 3.1214 - accuracy: 0.1023 - val_loss: 2.8916 - val_accuracy: 0.1729\n",
      "Epoch 2/10\n",
      "97/97 [==============================] - 0s 3ms/step - loss: 2.6684 - accuracy: 0.2356 - val_loss: 2.1225 - val_accuracy: 0.4400\n",
      "Epoch 3/10\n",
      "97/97 [==============================] - 0s 3ms/step - loss: 1.9417 - accuracy: 0.4167 - val_loss: 1.3507 - val_accuracy: 0.6735\n",
      "Epoch 4/10\n",
      "97/97 [==============================] - 0s 4ms/step - loss: 1.4325 - accuracy: 0.5342 - val_loss: 0.9780 - val_accuracy: 0.7742\n",
      "Epoch 5/10\n",
      "97/97 [==============================] - 0s 3ms/step - loss: 1.1121 - accuracy: 0.6198 - val_loss: 0.7305 - val_accuracy: 0.8142\n",
      "Epoch 6/10\n",
      "97/97 [==============================] - 0s 3ms/step - loss: 0.9570 - accuracy: 0.6672 - val_loss: 0.6142 - val_accuracy: 0.8439\n",
      "Epoch 7/10\n",
      "97/97 [==============================] - 0s 4ms/step - loss: 0.8296 - accuracy: 0.7079 - val_loss: 0.5417 - val_accuracy: 0.8684\n",
      "Epoch 8/10\n",
      "97/97 [==============================] - 0s 4ms/step - loss: 0.7361 - accuracy: 0.7382 - val_loss: 0.4779 - val_accuracy: 0.8761\n",
      "Epoch 9/10\n",
      "97/97 [==============================] - 0s 3ms/step - loss: 0.6554 - accuracy: 0.7673 - val_loss: 0.4020 - val_accuracy: 0.9135\n",
      "Epoch 10/10\n",
      "97/97 [==============================] - 0s 4ms/step - loss: 0.6060 - accuracy: 0.7844 - val_loss: 0.3846 - val_accuracy: 0.8942\n"
     ]
    }
   ],
   "source": [
    "from keras.models import Sequential\n",
    "from keras.layers import Dense, Dropout\n",
    "\n",
    "model = Sequential()\n",
    "model.add(Dense(128, activation='relu', input_shape=(63,)))\n",
    "model.add(Dropout(0.2))\n",
    "model.add(Dense(64, activation='relu'))\n",
    "model.add(Dropout(0.2))\n",
    "model.add(Dense(len(alphabets), activation='softmax'))\n",
    "\n",
    "model.compile(optimizer='adam', loss='categorical_crossentropy', metrics=['accuracy'])\n",
    "\n",
    "history = model.fit(X_train, y_train, \n",
    "                    validation_data=(X_val, y_val),\n",
    "                    epochs=10,\n",
    "                    batch_size=32)\n",
    "\n",
    "model.save('hand_gesture_model_landmarks.h5')\n"
   ]
  }
 ],
 "metadata": {
  "kernelspec": {
   "display_name": "myenv",
   "language": "python",
   "name": "python3"
  },
  "language_info": {
   "codemirror_mode": {
    "name": "ipython",
    "version": 3
   },
   "file_extension": ".py",
   "mimetype": "text/x-python",
   "name": "python",
   "nbconvert_exporter": "python",
   "pygments_lexer": "ipython3",
   "version": "3.8.20"
  }
 },
 "nbformat": 4,
 "nbformat_minor": 2
}
