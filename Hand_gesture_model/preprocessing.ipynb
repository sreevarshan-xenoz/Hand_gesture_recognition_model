{
 "cells": [
  {
   "cell_type": "code",
   "execution_count": 1,
   "metadata": {},
   "outputs": [],
   "source": [
    "import numpy as np\n",
    "import os\n",
    "\n",
    "DATA_DIR = 'hand_gesture_data'\n",
    "alphabets = [chr(i) for i in range(ord('A'), ord('Z') + 1)]\n",
    "X = []  \n",
    "y = [] \n",
    "\n",
    "for alphabet_idx, alphabet in enumerate(alphabets):\n",
    "    alphabet_dir = os.path.join(DATA_DIR, alphabet)\n",
    "    for file_name in os.listdir(alphabet_dir):\n",
    "        if file_name.endswith('.npy'):\n",
    "            file_path = os.path.join(alphabet_dir, file_name)\n",
    "            try:\n",
    "                landmarks = np.load(file_path)\n",
    "                X.append(landmarks)\n",
    "                y.append(alphabet_idx)  \n",
    "            except Exception as e:\n",
    "                print(f\"Error loading {file_path}: {e}\")\n",
    "\n",
    "X = np.array(X)\n",
    "y = np.array(y)\n",
    "\n",
    "X = (X - np.mean(X)) / np.std(X)\n",
    "\n",
    "from keras.utils import to_categorical\n",
    "y = to_categorical(y, num_classes=len(alphabets))\n",
    "\n",
    "from sklearn.model_selection import train_test_split\n",
    "X_train, X_val, y_train, y_val = train_test_split(X, y, test_size=0.2, random_state=42)\n"
   ]
  },
  {
   "cell_type": "code",
   "execution_count": 2,
   "metadata": {},
   "outputs": [
    {
     "name": "stdout",
     "output_type": "stream",
     "text": [
      "Epoch 1/25\n",
      "100/100 [==============================] - 2s 7ms/step - loss: 3.0697 - accuracy: 0.1283 - val_loss: 2.6855 - val_accuracy: 0.3116\n",
      "Epoch 2/25\n",
      "100/100 [==============================] - 0s 5ms/step - loss: 2.4134 - accuracy: 0.3041 - val_loss: 1.7930 - val_accuracy: 0.5720\n",
      "Epoch 3/25\n",
      "100/100 [==============================] - 0s 5ms/step - loss: 1.6953 - accuracy: 0.4734 - val_loss: 1.1981 - val_accuracy: 0.6934\n",
      "Epoch 4/25\n",
      "100/100 [==============================] - 0s 4ms/step - loss: 1.2932 - accuracy: 0.5670 - val_loss: 0.8594 - val_accuracy: 0.7822\n",
      "Epoch 5/25\n",
      "100/100 [==============================] - 0s 4ms/step - loss: 1.0279 - accuracy: 0.6442 - val_loss: 0.6729 - val_accuracy: 0.8523\n",
      "Epoch 6/25\n",
      "100/100 [==============================] - 0s 4ms/step - loss: 0.8877 - accuracy: 0.6899 - val_loss: 0.5639 - val_accuracy: 0.8773\n",
      "Epoch 7/25\n",
      "100/100 [==============================] - 0s 4ms/step - loss: 0.7795 - accuracy: 0.7137 - val_loss: 0.4975 - val_accuracy: 0.8636\n",
      "Epoch 8/25\n",
      "100/100 [==============================] - 0s 4ms/step - loss: 0.7128 - accuracy: 0.7428 - val_loss: 0.4482 - val_accuracy: 0.8911\n",
      "Epoch 9/25\n",
      "100/100 [==============================] - 0s 4ms/step - loss: 0.6297 - accuracy: 0.7697 - val_loss: 0.3727 - val_accuracy: 0.9199\n",
      "Epoch 10/25\n",
      "100/100 [==============================] - 0s 4ms/step - loss: 0.5735 - accuracy: 0.8032 - val_loss: 0.3713 - val_accuracy: 0.9074\n",
      "Epoch 11/25\n",
      "100/100 [==============================] - 0s 4ms/step - loss: 0.5411 - accuracy: 0.8069 - val_loss: 0.3206 - val_accuracy: 0.9174\n",
      "Epoch 12/25\n",
      "100/100 [==============================] - 0s 4ms/step - loss: 0.4978 - accuracy: 0.8223 - val_loss: 0.3119 - val_accuracy: 0.8986\n",
      "Epoch 13/25\n",
      "100/100 [==============================] - 0s 4ms/step - loss: 0.4736 - accuracy: 0.8267 - val_loss: 0.2719 - val_accuracy: 0.9399\n",
      "Epoch 14/25\n",
      "100/100 [==============================] - 0s 4ms/step - loss: 0.4501 - accuracy: 0.8364 - val_loss: 0.2576 - val_accuracy: 0.9437\n",
      "Epoch 15/25\n",
      "100/100 [==============================] - 0s 4ms/step - loss: 0.4174 - accuracy: 0.8439 - val_loss: 0.2616 - val_accuracy: 0.9262\n",
      "Epoch 16/25\n",
      "100/100 [==============================] - 0s 4ms/step - loss: 0.3953 - accuracy: 0.8576 - val_loss: 0.2237 - val_accuracy: 0.9499\n",
      "Epoch 17/25\n",
      "100/100 [==============================] - 0s 4ms/step - loss: 0.3753 - accuracy: 0.8695 - val_loss: 0.2173 - val_accuracy: 0.9449\n",
      "Epoch 18/25\n",
      "100/100 [==============================] - 0s 4ms/step - loss: 0.3528 - accuracy: 0.8798 - val_loss: 0.1988 - val_accuracy: 0.9562\n",
      "Epoch 19/25\n",
      "100/100 [==============================] - 0s 4ms/step - loss: 0.3355 - accuracy: 0.8827 - val_loss: 0.1952 - val_accuracy: 0.9487\n",
      "Epoch 20/25\n",
      "100/100 [==============================] - 0s 4ms/step - loss: 0.3137 - accuracy: 0.8908 - val_loss: 0.1821 - val_accuracy: 0.9562\n",
      "Epoch 21/25\n",
      "100/100 [==============================] - 0s 4ms/step - loss: 0.2998 - accuracy: 0.8999 - val_loss: 0.1695 - val_accuracy: 0.9512\n",
      "Epoch 22/25\n",
      "100/100 [==============================] - 0s 4ms/step - loss: 0.2825 - accuracy: 0.9008 - val_loss: 0.1734 - val_accuracy: 0.9574\n",
      "Epoch 23/25\n",
      "100/100 [==============================] - 0s 4ms/step - loss: 0.2907 - accuracy: 0.8977 - val_loss: 0.1643 - val_accuracy: 0.9625\n",
      "Epoch 24/25\n",
      "100/100 [==============================] - 0s 4ms/step - loss: 0.2696 - accuracy: 0.9086 - val_loss: 0.1543 - val_accuracy: 0.9562\n",
      "Epoch 25/25\n",
      "100/100 [==============================] - 0s 4ms/step - loss: 0.2625 - accuracy: 0.9136 - val_loss: 0.1394 - val_accuracy: 0.9712\n"
     ]
    },
    {
     "name": "stderr",
     "output_type": "stream",
     "text": [
      "c:\\Users\\LENOVO\\anaconda3\\envs\\myenv\\lib\\site-packages\\keras\\src\\engine\\training.py:3000: UserWarning: You are saving your model as an HDF5 file via `model.save()`. This file format is considered legacy. We recommend using instead the native Keras format, e.g. `model.save('my_model.keras')`.\n",
      "  saving_api.save_model(\n"
     ]
    }
   ],
   "source": [
    "from keras.models import Sequential\n",
    "from keras.layers import Dense, Dropout\n",
    "\n",
    "model = Sequential()\n",
    "model.add(Dense(128, activation='relu', input_shape=(63,)))  \n",
    "model.add(Dropout(0.2))\n",
    "model.add(Dense(64, activation='relu'))\n",
    "model.add(Dropout(0.2))\n",
    "model.add(Dense(len(alphabets), activation='softmax')) \n",
    "\n",
    "model.compile(optimizer='adam', loss='categorical_crossentropy', metrics=['accuracy'])\n",
    "\n",
    "history = model.fit(X_train, y_train, \n",
    "                    validation_data=(X_val, y_val),\n",
    "                    epochs=25,  \n",
    "                    batch_size=32)\n",
    "\n",
    "model.save('hand_gesture_model_landmarks.h5')\n"
   ]
  }
 ],
 "metadata": {
  "kernelspec": {
   "display_name": "myenv",
   "language": "python",
   "name": "python3"
  },
  "language_info": {
   "codemirror_mode": {
    "name": "ipython",
    "version": 3
   },
   "file_extension": ".py",
   "mimetype": "text/x-python",
   "name": "python",
   "nbconvert_exporter": "python",
   "pygments_lexer": "ipython3",
   "version": "3.8.20"
  }
 },
 "nbformat": 4,
 "nbformat_minor": 2
}
